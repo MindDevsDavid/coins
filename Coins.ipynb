{
  "nbformat": 4,
  "nbformat_minor": 0,
  "metadata": {
    "colab": {
      "provenance": []
    },
    "kernelspec": {
      "name": "python3",
      "display_name": "Python 3"
    },
    "language_info": {
      "name": "python"
    }
  },
  "cells": [
    {
      "cell_type": "code",
      "source": [
        "import tensorflow as tf\n",
        "from tensorflow.keras import layers, models\n",
        "import os\n",
        "import numpy as np\n",
        "import cv2\n",
        "import random\n",
        "\n",
        "\n",
        "width = 300\n",
        "height = 300\n",
        "\n",
        "\n",
        "ruta_train = 'prueba2/train/'\n",
        "ruta_predict = 'prueba2/predict/'\n",
        "\n",
        "train_x = []\n",
        "train_y = []\n",
        "\n",
        "\n",
        "labels = os.listdir(ruta_train)\n",
        "\n",
        "\n",
        "for i in os.listdir(ruta_train):\n",
        "    for j in os.listdir(ruta_train + i):\n",
        "        img = cv2.imread(ruta_train + i + '/' + j)\n",
        "        resized_image = cv2.resize(img, (width, height))\n",
        "        train_x.append(resized_image)\n",
        "\n",
        "\n",
        "        for x, y in enumerate(labels):\n",
        "            if y == i:\n",
        "                array = np.zeros(len(labels))\n",
        "                array[x] = 1\n",
        "                train_y.append(array)\n",
        "\n",
        "\n",
        "x_data = np.array(train_x)\n",
        "y_data = np.array(train_y)\n",
        "\n",
        "\n",
        "model = models.Sequential([\n",
        "    layers.Conv2D(32, (3, 3), activation='relu', input_shape=(width, height, 3)),\n",
        "    layers.MaxPooling2D((2, 2)),\n",
        "    layers.Conv2D(64, (3, 3), activation='relu'),\n",
        "    layers.MaxPooling2D((2, 2)),\n",
        "    layers.Conv2D(128, (3, 3), activation='relu'),\n",
        "    layers.MaxPooling2D((2, 2)),\n",
        "    layers.Flatten(),\n",
        "    layers.Dense(128, activation='relu'),\n",
        "    layers.Dense(len(labels), activation='softmax')\n",
        "])\n",
        "\n",
        "\n",
        "model.compile(optimizer='adam',\n",
        "              loss='categorical_crossentropy',\n",
        "              metrics=['accuracy'])\n",
        "\n",
        "\n",
        "epochs = 10\n",
        "model.fit(x_data, y_data, epochs=epochs)\n",
        "\n",
        "\n",
        "model.save('coin_model.keras')\n",
        "\n",
        "'''\n",
        "# Predict on a new image\n",
        "for filename in os.listdir(ruta_predict):\n",
        "    my_image = cv2.imread(ruta_predict + filename)\n",
        "    my_image = cv2.resize(my_image, (width, height))\n",
        "    result = model.predict(np.array([my_image]))[0]\n",
        "    predicted_label_index = np.argmax(result)\n",
        "    predicted_label = labels[predicted_label_index]\n",
        "    print(f\"Image: {filename}, Predicted Label: {predicted_label}\")\n",
        "'''"
      ],
      "metadata": {
        "colab": {
          "base_uri": "https://localhost:8080/",
          "height": 489
        },
        "id": "uEo9mBoMBFCO",
        "outputId": "c1933d64-4abe-464b-a815-01892015230d"
      },
      "execution_count": 1,
      "outputs": [
        {
          "output_type": "stream",
          "name": "stderr",
          "text": [
            "/usr/local/lib/python3.10/dist-packages/keras/src/layers/convolutional/base_conv.py:107: UserWarning: Do not pass an `input_shape`/`input_dim` argument to a layer. When using Sequential models, prefer using an `Input(shape)` object as the first layer in the model instead.\n",
            "  super().__init__(activity_regularizer=activity_regularizer, **kwargs)\n"
          ]
        },
        {
          "output_type": "stream",
          "name": "stdout",
          "text": [
            "Epoch 1/10\n",
            "\u001b[1m31/31\u001b[0m \u001b[32m━━━━━━━━━━━━━━━━━━━━\u001b[0m\u001b[37m\u001b[0m \u001b[1m215s\u001b[0m 7s/step - accuracy: 0.2964 - loss: 619.5645\n",
            "Epoch 2/10\n",
            "\u001b[1m31/31\u001b[0m \u001b[32m━━━━━━━━━━━━━━━━━━━━\u001b[0m\u001b[37m\u001b[0m \u001b[1m255s\u001b[0m 7s/step - accuracy: 0.7329 - loss: 0.7283\n",
            "Epoch 3/10\n",
            "\u001b[1m31/31\u001b[0m \u001b[32m━━━━━━━━━━━━━━━━━━━━\u001b[0m\u001b[37m\u001b[0m \u001b[1m272s\u001b[0m 7s/step - accuracy: 0.9183 - loss: 0.2551\n",
            "Epoch 4/10\n",
            "\u001b[1m31/31\u001b[0m \u001b[32m━━━━━━━━━━━━━━━━━━━━\u001b[0m\u001b[37m\u001b[0m \u001b[1m253s\u001b[0m 7s/step - accuracy: 0.9519 - loss: 0.2062\n",
            "Epoch 5/10\n",
            "\u001b[1m31/31\u001b[0m \u001b[32m━━━━━━━━━━━━━━━━━━━━\u001b[0m\u001b[37m\u001b[0m \u001b[1m260s\u001b[0m 7s/step - accuracy: 0.9798 - loss: 0.0804\n",
            "Epoch 6/10\n",
            "\u001b[1m31/31\u001b[0m \u001b[32m━━━━━━━━━━━━━━━━━━━━\u001b[0m\u001b[37m\u001b[0m \u001b[1m260s\u001b[0m 7s/step - accuracy: 0.9915 - loss: 0.0379\n",
            "Epoch 7/10\n",
            "\u001b[1m31/31\u001b[0m \u001b[32m━━━━━━━━━━━━━━━━━━━━\u001b[0m\u001b[37m\u001b[0m \u001b[1m207s\u001b[0m 7s/step - accuracy: 0.9990 - loss: 0.0055\n",
            "Epoch 8/10\n",
            "\u001b[1m31/31\u001b[0m \u001b[32m━━━━━━━━━━━━━━━━━━━━\u001b[0m\u001b[37m\u001b[0m \u001b[1m259s\u001b[0m 7s/step - accuracy: 1.0000 - loss: 4.9391e-04\n",
            "Epoch 9/10\n",
            "\u001b[1m31/31\u001b[0m \u001b[32m━━━━━━━━━━━━━━━━━━━━\u001b[0m\u001b[37m\u001b[0m \u001b[1m208s\u001b[0m 7s/step - accuracy: 1.0000 - loss: 1.7584e-04\n",
            "Epoch 10/10\n",
            "\u001b[1m31/31\u001b[0m \u001b[32m━━━━━━━━━━━━━━━━━━━━\u001b[0m\u001b[37m\u001b[0m \u001b[1m261s\u001b[0m 7s/step - accuracy: 1.0000 - loss: 1.1438e-04\n"
          ]
        },
        {
          "output_type": "execute_result",
          "data": {
            "text/plain": [
              "'\\n# Predict on a new image\\nfor filename in os.listdir(ruta_predict):\\n    my_image = cv2.imread(ruta_predict + filename)\\n    my_image = cv2.resize(my_image, (width, height))\\n    result = model.predict(np.array([my_image]))[0]\\n    predicted_label_index = np.argmax(result)\\n    predicted_label = labels[predicted_label_index]\\n    print(f\"Image: {filename}, Predicted Label: {predicted_label}\")\\n'"
            ],
            "application/vnd.google.colaboratory.intrinsic+json": {
              "type": "string"
            }
          },
          "metadata": {},
          "execution_count": 1
        }
      ]
    },
    {
      "cell_type": "code",
      "source": [
        "# Preprocesa la imagen para predecir\n",
        "my_image = cv2.imread('/content/prueba2/predict/500/IMG_20241120_170644132_BURST002.jpg')\n",
        "my_image = cv2.resize(my_image, (width, height)) / 255.0  # Normalizar a valores entre 0 y 1\n",
        "\n",
        "# Realiza la predicción\n",
        "result = model.predict(np.array([my_image]))[0]\n",
        "\n",
        "# Encuentra la clase con la mayor probabilidad\n",
        "predicted_index = result.argmax()\n",
        "predicted_label = labels[predicted_index]  # Recupera la etiqueta correspondiente\n",
        "\n",
        "# Muestra la probabilidad y el resultado\n",
        "print(f\"Probabilidad: {max(result):.2f}\")\n",
        "print(f\"Es una moneda de {predicted_label} pesos.\")\n"
      ],
      "metadata": {
        "id": "0QdhC0UaKG0F",
        "colab": {
          "base_uri": "https://localhost:8080/"
        },
        "outputId": "85f18cba-38d4-40dd-d042-e1054b8657c0"
      },
      "execution_count": 10,
      "outputs": [
        {
          "output_type": "stream",
          "name": "stdout",
          "text": [
            "\u001b[1m1/1\u001b[0m \u001b[32m━━━━━━━━━━━━━━━━━━━━\u001b[0m\u001b[37m\u001b[0m \u001b[1m0s\u001b[0m 233ms/step\n",
            "Probabilidad: 0.27\n",
            "Es una moneda de 500 pesos.\n"
          ]
        }
      ]
    }
  ]
}